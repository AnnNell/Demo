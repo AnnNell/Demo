{
 "cells": [
  {
   "cell_type": "markdown",
   "id": "5b1cdaf1",
   "metadata": {},
   "source": [
    "#                                          Prediction of Heart Disease using the optimal risk factors "
   ]
  },
  {
   "cell_type": "code",
   "execution_count": 1,
   "id": "67184866",
   "metadata": {},
   "outputs": [],
   "source": [
    "#import libraries\n",
    "import pandas as pd\n",
    "from sklearn.preprocessing import StandardScaler\n",
    "from matplotlib import pyplot as plt\n",
    "%matplotlib inline\n",
    "import numpy as np\n",
    "import seaborn as sns\n",
    "from scipy import stats\n",
    "import warnings\n",
    "warnings.filterwarnings(\"ignore\")\n"
   ]
  },
  {
   "cell_type": "markdown",
   "id": "6ddb13e0",
   "metadata": {},
   "source": [
    "## 1. Import the data"
   ]
  },
  {
   "cell_type": "code",
   "execution_count": 2,
   "id": "01b6e67e",
   "metadata": {
    "scrolled": true
   },
   "outputs": [
    {
     "data": {
      "text/html": [
       "<div>\n",
       "<style scoped>\n",
       "    .dataframe tbody tr th:only-of-type {\n",
       "        vertical-align: middle;\n",
       "    }\n",
       "\n",
       "    .dataframe tbody tr th {\n",
       "        vertical-align: top;\n",
       "    }\n",
       "\n",
       "    .dataframe thead th {\n",
       "        text-align: right;\n",
       "    }\n",
       "</style>\n",
       "<table border=\"1\" class=\"dataframe\">\n",
       "  <thead>\n",
       "    <tr style=\"text-align: right;\">\n",
       "      <th></th>\n",
       "      <th>index</th>\n",
       "      <th>Age</th>\n",
       "      <th>Sex</th>\n",
       "      <th>Chest_pain_type</th>\n",
       "      <th>BP</th>\n",
       "      <th>Cholesterol</th>\n",
       "      <th>FBS_over_120</th>\n",
       "      <th>EKG_results</th>\n",
       "      <th>Max_HR</th>\n",
       "      <th>Exercise_angina</th>\n",
       "      <th>ST_depression</th>\n",
       "      <th>Slope_of_ST</th>\n",
       "      <th>Numberofvesselsfluro</th>\n",
       "      <th>Thallium</th>\n",
       "      <th>HeartDisease</th>\n",
       "    </tr>\n",
       "  </thead>\n",
       "  <tbody>\n",
       "    <tr>\n",
       "      <th>0</th>\n",
       "      <td>0</td>\n",
       "      <td>70</td>\n",
       "      <td>1</td>\n",
       "      <td>4</td>\n",
       "      <td>130</td>\n",
       "      <td>322</td>\n",
       "      <td>0</td>\n",
       "      <td>2</td>\n",
       "      <td>109</td>\n",
       "      <td>0</td>\n",
       "      <td>2.4</td>\n",
       "      <td>2</td>\n",
       "      <td>3</td>\n",
       "      <td>3</td>\n",
       "      <td>Presence</td>\n",
       "    </tr>\n",
       "    <tr>\n",
       "      <th>1</th>\n",
       "      <td>1</td>\n",
       "      <td>67</td>\n",
       "      <td>0</td>\n",
       "      <td>3</td>\n",
       "      <td>115</td>\n",
       "      <td>564</td>\n",
       "      <td>0</td>\n",
       "      <td>2</td>\n",
       "      <td>160</td>\n",
       "      <td>0</td>\n",
       "      <td>1.6</td>\n",
       "      <td>2</td>\n",
       "      <td>0</td>\n",
       "      <td>7</td>\n",
       "      <td>Absence</td>\n",
       "    </tr>\n",
       "    <tr>\n",
       "      <th>2</th>\n",
       "      <td>2</td>\n",
       "      <td>57</td>\n",
       "      <td>1</td>\n",
       "      <td>2</td>\n",
       "      <td>124</td>\n",
       "      <td>261</td>\n",
       "      <td>0</td>\n",
       "      <td>0</td>\n",
       "      <td>141</td>\n",
       "      <td>0</td>\n",
       "      <td>0.3</td>\n",
       "      <td>1</td>\n",
       "      <td>0</td>\n",
       "      <td>7</td>\n",
       "      <td>Presence</td>\n",
       "    </tr>\n",
       "    <tr>\n",
       "      <th>3</th>\n",
       "      <td>3</td>\n",
       "      <td>64</td>\n",
       "      <td>1</td>\n",
       "      <td>4</td>\n",
       "      <td>128</td>\n",
       "      <td>263</td>\n",
       "      <td>0</td>\n",
       "      <td>0</td>\n",
       "      <td>105</td>\n",
       "      <td>1</td>\n",
       "      <td>0.2</td>\n",
       "      <td>2</td>\n",
       "      <td>1</td>\n",
       "      <td>7</td>\n",
       "      <td>Absence</td>\n",
       "    </tr>\n",
       "    <tr>\n",
       "      <th>4</th>\n",
       "      <td>4</td>\n",
       "      <td>74</td>\n",
       "      <td>0</td>\n",
       "      <td>2</td>\n",
       "      <td>120</td>\n",
       "      <td>269</td>\n",
       "      <td>0</td>\n",
       "      <td>2</td>\n",
       "      <td>121</td>\n",
       "      <td>1</td>\n",
       "      <td>0.2</td>\n",
       "      <td>1</td>\n",
       "      <td>1</td>\n",
       "      <td>3</td>\n",
       "      <td>Absence</td>\n",
       "    </tr>\n",
       "  </tbody>\n",
       "</table>\n",
       "</div>"
      ],
      "text/plain": [
       "   index  Age  Sex  Chest_pain_type   BP  Cholesterol  FBS_over_120  \\\n",
       "0      0   70    1                4  130          322             0   \n",
       "1      1   67    0                3  115          564             0   \n",
       "2      2   57    1                2  124          261             0   \n",
       "3      3   64    1                4  128          263             0   \n",
       "4      4   74    0                2  120          269             0   \n",
       "\n",
       "   EKG_results  Max_HR  Exercise_angina  ST_depression  Slope_of_ST  \\\n",
       "0            2     109                0            2.4            2   \n",
       "1            2     160                0            1.6            2   \n",
       "2            0     141                0            0.3            1   \n",
       "3            0     105                1            0.2            2   \n",
       "4            2     121                1            0.2            1   \n",
       "\n",
       "   Numberofvesselsfluro  Thallium HeartDisease  \n",
       "0                     3         3     Presence  \n",
       "1                     0         7      Absence  \n",
       "2                     0         7     Presence  \n",
       "3                     1         7      Absence  \n",
       "4                     1         3      Absence  "
      ]
     },
     "execution_count": 2,
     "metadata": {},
     "output_type": "execute_result"
    }
   ],
   "source": [
    "#Read the dataset\n",
    "df = pd.read_csv(\"Analysis_of_Heartdisease.csv\")\n",
    "df.head()"
   ]
  },
  {
   "cell_type": "code",
   "execution_count": 3,
   "id": "c806a69d",
   "metadata": {
    "scrolled": true
   },
   "outputs": [
    {
     "name": "stdout",
     "output_type": "stream",
     "text": [
      "<class 'pandas.core.frame.DataFrame'>\n",
      "RangeIndex: 270 entries, 0 to 269\n",
      "Data columns (total 15 columns):\n",
      " #   Column                Non-Null Count  Dtype  \n",
      "---  ------                --------------  -----  \n",
      " 0   index                 270 non-null    int64  \n",
      " 1   Age                   270 non-null    int64  \n",
      " 2   Sex                   270 non-null    int64  \n",
      " 3   Chest_pain_type       270 non-null    int64  \n",
      " 4   BP                    270 non-null    int64  \n",
      " 5   Cholesterol           270 non-null    int64  \n",
      " 6   FBS_over_120          270 non-null    int64  \n",
      " 7   EKG_results           270 non-null    int64  \n",
      " 8   Max_HR                270 non-null    int64  \n",
      " 9   Exercise_angina       270 non-null    int64  \n",
      " 10  ST_depression         270 non-null    float64\n",
      " 11  Slope_of_ST           270 non-null    int64  \n",
      " 12  Numberofvesselsfluro  270 non-null    int64  \n",
      " 13  Thallium              270 non-null    int64  \n",
      " 14  HeartDisease          270 non-null    object \n",
      "dtypes: float64(1), int64(13), object(1)\n",
      "memory usage: 31.8+ KB\n"
     ]
    }
   ],
   "source": [
    "#summary of the original dataframe\n",
    "df.info()"
   ]
  },
  {
   "cell_type": "markdown",
   "id": "3963f43c",
   "metadata": {},
   "source": [
    "## 2. Pre-processing"
   ]
  },
  {
   "cell_type": "code",
   "execution_count": 4,
   "id": "1d4502a0",
   "metadata": {},
   "outputs": [
    {
     "data": {
      "text/html": [
       "<div>\n",
       "<style scoped>\n",
       "    .dataframe tbody tr th:only-of-type {\n",
       "        vertical-align: middle;\n",
       "    }\n",
       "\n",
       "    .dataframe tbody tr th {\n",
       "        vertical-align: top;\n",
       "    }\n",
       "\n",
       "    .dataframe thead th {\n",
       "        text-align: right;\n",
       "    }\n",
       "</style>\n",
       "<table border=\"1\" class=\"dataframe\">\n",
       "  <thead>\n",
       "    <tr style=\"text-align: right;\">\n",
       "      <th></th>\n",
       "      <th>Age</th>\n",
       "      <th>Sex</th>\n",
       "      <th>Chest_pain_type</th>\n",
       "      <th>BP</th>\n",
       "      <th>Cholesterol</th>\n",
       "      <th>FBS_over_120</th>\n",
       "      <th>EKG_results</th>\n",
       "      <th>Max_HR</th>\n",
       "      <th>Exercise_angina</th>\n",
       "      <th>ST_depression</th>\n",
       "      <th>Slope_of_ST</th>\n",
       "      <th>Numberofvesselsfluro</th>\n",
       "      <th>Thallium</th>\n",
       "      <th>HeartDisease</th>\n",
       "    </tr>\n",
       "  </thead>\n",
       "  <tbody>\n",
       "    <tr>\n",
       "      <th>0</th>\n",
       "      <td>70</td>\n",
       "      <td>1</td>\n",
       "      <td>4</td>\n",
       "      <td>130</td>\n",
       "      <td>322</td>\n",
       "      <td>0</td>\n",
       "      <td>2</td>\n",
       "      <td>109</td>\n",
       "      <td>0</td>\n",
       "      <td>2.4</td>\n",
       "      <td>2</td>\n",
       "      <td>3</td>\n",
       "      <td>3</td>\n",
       "      <td>1</td>\n",
       "    </tr>\n",
       "    <tr>\n",
       "      <th>1</th>\n",
       "      <td>67</td>\n",
       "      <td>0</td>\n",
       "      <td>3</td>\n",
       "      <td>115</td>\n",
       "      <td>564</td>\n",
       "      <td>0</td>\n",
       "      <td>2</td>\n",
       "      <td>160</td>\n",
       "      <td>0</td>\n",
       "      <td>1.6</td>\n",
       "      <td>2</td>\n",
       "      <td>0</td>\n",
       "      <td>7</td>\n",
       "      <td>0</td>\n",
       "    </tr>\n",
       "    <tr>\n",
       "      <th>2</th>\n",
       "      <td>57</td>\n",
       "      <td>1</td>\n",
       "      <td>2</td>\n",
       "      <td>124</td>\n",
       "      <td>261</td>\n",
       "      <td>0</td>\n",
       "      <td>0</td>\n",
       "      <td>141</td>\n",
       "      <td>0</td>\n",
       "      <td>0.3</td>\n",
       "      <td>1</td>\n",
       "      <td>0</td>\n",
       "      <td>7</td>\n",
       "      <td>1</td>\n",
       "    </tr>\n",
       "    <tr>\n",
       "      <th>3</th>\n",
       "      <td>64</td>\n",
       "      <td>1</td>\n",
       "      <td>4</td>\n",
       "      <td>128</td>\n",
       "      <td>263</td>\n",
       "      <td>0</td>\n",
       "      <td>0</td>\n",
       "      <td>105</td>\n",
       "      <td>1</td>\n",
       "      <td>0.2</td>\n",
       "      <td>2</td>\n",
       "      <td>1</td>\n",
       "      <td>7</td>\n",
       "      <td>0</td>\n",
       "    </tr>\n",
       "    <tr>\n",
       "      <th>4</th>\n",
       "      <td>74</td>\n",
       "      <td>0</td>\n",
       "      <td>2</td>\n",
       "      <td>120</td>\n",
       "      <td>269</td>\n",
       "      <td>0</td>\n",
       "      <td>2</td>\n",
       "      <td>121</td>\n",
       "      <td>1</td>\n",
       "      <td>0.2</td>\n",
       "      <td>1</td>\n",
       "      <td>1</td>\n",
       "      <td>3</td>\n",
       "      <td>0</td>\n",
       "    </tr>\n",
       "  </tbody>\n",
       "</table>\n",
       "</div>"
      ],
      "text/plain": [
       "   Age  Sex  Chest_pain_type   BP  Cholesterol  FBS_over_120  EKG_results  \\\n",
       "0   70    1                4  130          322             0            2   \n",
       "1   67    0                3  115          564             0            2   \n",
       "2   57    1                2  124          261             0            0   \n",
       "3   64    1                4  128          263             0            0   \n",
       "4   74    0                2  120          269             0            2   \n",
       "\n",
       "   Max_HR  Exercise_angina  ST_depression  Slope_of_ST  Numberofvesselsfluro  \\\n",
       "0     109                0            2.4            2                     3   \n",
       "1     160                0            1.6            2                     0   \n",
       "2     141                0            0.3            1                     0   \n",
       "3     105                1            0.2            2                     1   \n",
       "4     121                1            0.2            1                     1   \n",
       "\n",
       "   Thallium  HeartDisease  \n",
       "0         3             1  \n",
       "1         7             0  \n",
       "2         7             1  \n",
       "3         7             0  \n",
       "4         3             0  "
      ]
     },
     "execution_count": 4,
     "metadata": {},
     "output_type": "execute_result"
    }
   ],
   "source": [
    "#Drop the index column\n",
    "df=df.drop(['index'], axis='columns')\n",
    "#convert target variable into numerical value\n",
    "from sklearn.preprocessing import LabelEncoder\n",
    "le = LabelEncoder()\n",
    "df2 = df\n",
    "df2.HeartDisease = le.fit_transform(df2.HeartDisease)\n",
    "df2.head()\n"
   ]
  },
  {
   "cell_type": "code",
   "execution_count": 5,
   "id": "ff9e92b8",
   "metadata": {},
   "outputs": [
    {
     "data": {
      "text/plain": [
       "(270, 14)"
      ]
     },
     "execution_count": 5,
     "metadata": {},
     "output_type": "execute_result"
    }
   ],
   "source": [
    "#size of the dataframe\n",
    "df2.shape"
   ]
  },
  {
   "cell_type": "code",
   "execution_count": 6,
   "id": "62fcb03a",
   "metadata": {
    "scrolled": true
   },
   "outputs": [
    {
     "data": {
      "text/plain": [
       "Text(0.5, 1.0, 'Box Plot after outlier removal')"
      ]
     },
     "execution_count": 6,
     "metadata": {},
     "output_type": "execute_result"
    },
    {
     "data": {
      "image/png": "[encoded data removed]",
      "text/plain": [
       "<Figure size 1152x1152 with 1 Axes>"
      ]
     },
     "metadata": {
      "needs_background": "light"
     },
     "output_type": "display_data"
    }
   ],
   "source": [
    "df1=df2\n",
    "# Remove outliers for BP column\n",
    "q1 = df1['BP'].quantile(0.25)\n",
    "q3 = df1['BP'].quantile(0.75)\n",
    "iqr = q3-q1\n",
    "Lower_tail = q1 - 1.5 * iqr\n",
    "Upper_tail = q3 + 1.5 * iqr\n",
    "med = np.median(df1['BP'])\n",
    "for i in df1['BP']:\n",
    "    if i > Upper_tail or i < Lower_tail:\n",
    "            df1['BP'] = df1['BP'].replace(i, med)\n",
    "# Remove outliers for Cholesterol column\n",
    "q1 = df1['Cholesterol'].quantile(0.25)\n",
    "q3 = df1['Cholesterol'].quantile(0.75)\n",
    "iqr = q3-q1\n",
    "Lower_tail = q1 - 1.5 * iqr\n",
    "Upper_tail = q3 + 1.5 * iqr\n",
    "med = np.median(df1['Cholesterol'])\n",
    "for i in df1['Cholesterol']:\n",
    "    if i > Upper_tail or i < Lower_tail:\n",
    "            df1['Cholesterol'] = df1['Cholesterol'].replace(i, med)\n",
    "\n",
    "# Remove outliers for Thallium column\n",
    "q1 = df1['Thallium'].quantile(0.25)\n",
    "q3 = df1['Thallium'].quantile(0.75)\n",
    "iqr = q3-q1\n",
    "Lower_tail = q1 - 1.5 * iqr\n",
    "Upper_tail = q3 + 1.5 * iqr\n",
    "med = np.median(df1['Thallium'])\n",
    "for i in df1['Thallium']:\n",
    "    if i > Upper_tail or i < Lower_tail:\n",
    "            df1['Thallium'] = df1['Thallium'].replace(i, med)\n",
    "\n",
    "# Remove outliers for ST_depression column\n",
    "q1 = df1['ST_depression'].quantile(0.25)\n",
    "q3 = df1['ST_depression'].quantile(0.75)\n",
    "iqr = q3-q1\n",
    "Lower_tail = q1 - 1.5 * iqr\n",
    "Upper_tail = q3 + 1.5 * iqr\n",
    "med = np.median(df1['ST_depression'])\n",
    "for i in df1['ST_depression']:\n",
    "    if i > Upper_tail or i < Lower_tail:\n",
    "            df1['ST_depression'] = df1['ST_depression'].replace(i, med)\n",
    "            \n",
    "# Remove outliers for fbs column\n",
    "q1 = df1['FBS_over_120'].quantile(0.25)\n",
    "q3 = df1['FBS_over_120'].quantile(0.75)\n",
    "iqr = q3-q1\n",
    "Lower_tail = q1 - 1.5 * iqr\n",
    "Upper_tail = q3 + 1.5 * iqr\n",
    "med = np.median(df1['FBS_over_120'])\n",
    "for i in df1['FBS_over_120']:\n",
    "    if i > Upper_tail or i < Lower_tail:\n",
    "            df1['FBS_over_120'] = df1['FBS_over_120'].replace(i, med)\n",
    "# Remove outliers for Chest_pain_type column\n",
    "q1 = df1['Chest_pain_type'].quantile(0.25)\n",
    "q3 = df1['Chest_pain_type'].quantile(0.75)\n",
    "iqr = q3-q1\n",
    "Lower_tail = q1 - 1.5 * iqr\n",
    "Upper_tail = q3 + 1.5 * iqr\n",
    "med = np.median(df1['Chest_pain_type'])\n",
    "for i in df1['Chest_pain_type']:\n",
    "    if i > Upper_tail or i < Lower_tail:\n",
    "            df1['Chest_pain_type'] = df1['Chest_pain_type'].replace(i, med)\n",
    "# Remove outliers for Numberofvesselsfluro column\n",
    "q1 = df1['Numberofvesselsfluro'].quantile(0.25)\n",
    "q3 = df1['Numberofvesselsfluro'].quantile(0.75)\n",
    "iqr = q3-q1\n",
    "Lower_tail = q1 - 1.5 * iqr\n",
    "Upper_tail = q3 + 1.5 * iqr\n",
    "med = np.median(df1['Numberofvesselsfluro'])\n",
    "for i in df1['Numberofvesselsfluro']:\n",
    "    if i > Upper_tail or i < Lower_tail:\n",
    "            df1['Numberofvesselsfluro'] = df1['Numberofvesselsfluro'].replace(i, med)\n",
    "# Remove outliers for Max_HR column\n",
    "q1 = df1['Max_HR'].quantile(0.25)\n",
    "q3 = df1['Max_HR'].quantile(0.75)\n",
    "iqr = q3-q1\n",
    "Lower_tail = q1 - 1.5 * iqr\n",
    "Upper_tail = q3 + 1.5 * iqr\n",
    "med = np.median(df1['Max_HR'])\n",
    "for i in df1['Max_HR']:\n",
    "    if i > Upper_tail or i < Lower_tail:\n",
    "            df1['Max_HR'] = df1['Max_HR'].replace(i, med)\n",
    "plt.figure(figsize=(16,16))\n",
    "sns.boxplot (data= df1)\n",
    "plt.title(\"Box Plot after outlier removal\")\n"
   ]
  },
  {
   "cell_type": "code",
   "execution_count": 7,
   "id": "28b8f5d0",
   "metadata": {},
   "outputs": [
    {
     "data": {
      "text/plain": [
       "(270, 14)"
      ]
     },
     "execution_count": 7,
     "metadata": {},
     "output_type": "execute_result"
    }
   ],
   "source": [
    "cleaned_data= df1\n",
    "cleaned_data.head()\n",
    "cleaned_data.shape"
   ]
  },
  {
   "cell_type": "code",
   "execution_count": 8,
   "id": "f4ce3ce2",
   "metadata": {
    "scrolled": false
   },
   "outputs": [
    {
     "data": {
      "text/html": [
       "<div>\n",
       "<style scoped>\n",
       "    .dataframe tbody tr th:only-of-type {\n",
       "        vertical-align: middle;\n",
       "    }\n",
       "\n",
       "    .dataframe tbody tr th {\n",
       "        vertical-align: top;\n",
       "    }\n",
       "\n",
       "    .dataframe thead th {\n",
       "        text-align: right;\n",
       "    }\n",
       "</style>\n",
       "<table border=\"1\" class=\"dataframe\">\n",
       "  <thead>\n",
       "    <tr style=\"text-align: right;\">\n",
       "      <th></th>\n",
       "      <th>Age</th>\n",
       "      <th>BP</th>\n",
       "      <th>Cholesterol</th>\n",
       "      <th>FBS_over_120</th>\n",
       "      <th>Max_HR</th>\n",
       "      <th>ST_depression</th>\n",
       "      <th>HeartDisease</th>\n",
       "      <th>Sex_0</th>\n",
       "      <th>Sex_1</th>\n",
       "      <th>Exercise_angina_0</th>\n",
       "      <th>...</th>\n",
       "      <th>Chest_pain_type_4</th>\n",
       "      <th>EKG_results_0</th>\n",
       "      <th>EKG_results_1</th>\n",
       "      <th>EKG_results_2</th>\n",
       "      <th>Slope_of_ST_1</th>\n",
       "      <th>Slope_of_ST_2</th>\n",
       "      <th>Slope_of_ST_3</th>\n",
       "      <th>Thallium_3</th>\n",
       "      <th>Thallium_6</th>\n",
       "      <th>Thallium_7</th>\n",
       "    </tr>\n",
       "  </thead>\n",
       "  <tbody>\n",
       "    <tr>\n",
       "      <th>0</th>\n",
       "      <td>1.712094</td>\n",
       "      <td>0.024742</td>\n",
       "      <td>1.734128</td>\n",
       "      <td>0.0</td>\n",
       "      <td>-1.811761</td>\n",
       "      <td>1.375507</td>\n",
       "      <td>1</td>\n",
       "      <td>0</td>\n",
       "      <td>1</td>\n",
       "      <td>1</td>\n",
       "      <td>...</td>\n",
       "      <td>1</td>\n",
       "      <td>0</td>\n",
       "      <td>0</td>\n",
       "      <td>1</td>\n",
       "      <td>0</td>\n",
       "      <td>1</td>\n",
       "      <td>0</td>\n",
       "      <td>1</td>\n",
       "      <td>0</td>\n",
       "      <td>0</td>\n",
       "    </tr>\n",
       "    <tr>\n",
       "      <th>1</th>\n",
       "      <td>1.382140</td>\n",
       "      <td>-0.967375</td>\n",
       "      <td>-0.024703</td>\n",
       "      <td>0.0</td>\n",
       "      <td>0.442809</td>\n",
       "      <td>0.596714</td>\n",
       "      <td>0</td>\n",
       "      <td>1</td>\n",
       "      <td>0</td>\n",
       "      <td>1</td>\n",
       "      <td>...</td>\n",
       "      <td>0</td>\n",
       "      <td>0</td>\n",
       "      <td>0</td>\n",
       "      <td>1</td>\n",
       "      <td>0</td>\n",
       "      <td>1</td>\n",
       "      <td>0</td>\n",
       "      <td>0</td>\n",
       "      <td>0</td>\n",
       "      <td>1</td>\n",
       "    </tr>\n",
       "    <tr>\n",
       "      <th>2</th>\n",
       "      <td>0.282294</td>\n",
       "      <td>-0.372105</td>\n",
       "      <td>0.340768</td>\n",
       "      <td>0.0</td>\n",
       "      <td>-0.397129</td>\n",
       "      <td>-0.668825</td>\n",
       "      <td>1</td>\n",
       "      <td>0</td>\n",
       "      <td>1</td>\n",
       "      <td>1</td>\n",
       "      <td>...</td>\n",
       "      <td>0</td>\n",
       "      <td>1</td>\n",
       "      <td>0</td>\n",
       "      <td>0</td>\n",
       "      <td>1</td>\n",
       "      <td>0</td>\n",
       "      <td>0</td>\n",
       "      <td>0</td>\n",
       "      <td>0</td>\n",
       "      <td>1</td>\n",
       "    </tr>\n",
       "    <tr>\n",
       "      <th>3</th>\n",
       "      <td>1.052186</td>\n",
       "      <td>-0.107541</td>\n",
       "      <td>0.386452</td>\n",
       "      <td>0.0</td>\n",
       "      <td>-1.988590</td>\n",
       "      <td>-0.766174</td>\n",
       "      <td>0</td>\n",
       "      <td>0</td>\n",
       "      <td>1</td>\n",
       "      <td>0</td>\n",
       "      <td>...</td>\n",
       "      <td>1</td>\n",
       "      <td>1</td>\n",
       "      <td>0</td>\n",
       "      <td>0</td>\n",
       "      <td>0</td>\n",
       "      <td>1</td>\n",
       "      <td>0</td>\n",
       "      <td>0</td>\n",
       "      <td>0</td>\n",
       "      <td>1</td>\n",
       "    </tr>\n",
       "    <tr>\n",
       "      <th>4</th>\n",
       "      <td>2.152032</td>\n",
       "      <td>-0.636670</td>\n",
       "      <td>0.523504</td>\n",
       "      <td>0.0</td>\n",
       "      <td>-1.281274</td>\n",
       "      <td>-0.766174</td>\n",
       "      <td>0</td>\n",
       "      <td>1</td>\n",
       "      <td>0</td>\n",
       "      <td>0</td>\n",
       "      <td>...</td>\n",
       "      <td>0</td>\n",
       "      <td>0</td>\n",
       "      <td>0</td>\n",
       "      <td>1</td>\n",
       "      <td>1</td>\n",
       "      <td>0</td>\n",
       "      <td>0</td>\n",
       "      <td>1</td>\n",
       "      <td>0</td>\n",
       "      <td>0</td>\n",
       "    </tr>\n",
       "  </tbody>\n",
       "</table>\n",
       "<p>5 rows × 26 columns</p>\n",
       "</div>"
      ],
      "text/plain": [
       "        Age        BP  Cholesterol  FBS_over_120    Max_HR  ST_depression  \\\n",
       "0  1.712094  0.024742     1.734128           0.0 -1.811761       1.375507   \n",
       "1  1.382140 -0.967375    -0.024703           0.0  0.442809       0.596714   \n",
       "2  0.282294 -0.372105     0.340768           0.0 -0.397129      -0.668825   \n",
       "3  1.052186 -0.107541     0.386452           0.0 -1.988590      -0.766174   \n",
       "4  2.152032 -0.636670     0.523504           0.0 -1.281274      -0.766174   \n",
       "\n",
       "   HeartDisease  Sex_0  Sex_1  Exercise_angina_0  ...  Chest_pain_type_4  \\\n",
       "0             1      0      1                  1  ...                  1   \n",
       "1             0      1      0                  1  ...                  0   \n",
       "2             1      0      1                  1  ...                  0   \n",
       "3             0      0      1                  0  ...                  1   \n",
       "4             0      1      0                  0  ...                  0   \n",
       "\n",
       "   EKG_results_0  EKG_results_1  EKG_results_2  Slope_of_ST_1  Slope_of_ST_2  \\\n",
       "0              0              0              1              0              1   \n",
       "1              0              0              1              0              1   \n",
       "2              1              0              0              1              0   \n",
       "3              1              0              0              0              1   \n",
       "4              0              0              1              1              0   \n",
       "\n",
       "   Slope_of_ST_3  Thallium_3  Thallium_6  Thallium_7  \n",
       "0              0           1           0           0  \n",
       "1              0           0           0           1  \n",
       "2              0           0           0           1  \n",
       "3              0           0           0           1  \n",
       "4              0           1           0           0  \n",
       "\n",
       "[5 rows x 26 columns]"
      ]
     },
     "execution_count": 8,
     "metadata": {},
     "output_type": "execute_result"
    }
   ],
   "source": [
    "scaler = StandardScaler()\n",
    "categorical_vars = ['Sex','Exercise_angina','Numberofvesselsfluro','Chest_pain_type','EKG_results','Slope_of_ST','Thallium']\n",
    "continuous_vars = [\"Age\",\"BP\",\"Cholesterol\",\"Max_HR\",\"ST_depression\",'FBS_over_120']\n",
    "# encoding the categorical columns\n",
    "data1 = pd.get_dummies(cleaned_data, columns = categorical_vars)\n",
    "X = data1.drop(['HeartDisease'],axis=1)\n",
    "y = data1[['HeartDisease']]\n",
    "# Scaling the continuous columns\n",
    "data1[continuous_vars] = scaler.fit_transform(X[continuous_vars])\n",
    "data1.head()\n"
   ]
  },
  {
   "cell_type": "markdown",
   "id": "78438cf9",
   "metadata": {},
   "source": [
    "## 3. Exploratory Data Analysis"
   ]
  },
  {
   "cell_type": "code",
   "execution_count": 9,
   "id": "950b1d25",
   "metadata": {
    "scrolled": true
   },
   "outputs": [
    {
     "data": {
      "text/plain": [
       "Text(0.5, 1.0, 'Correlation between variables')"
      ]
     },
     "execution_count": 9,
     "metadata": {},
     "output_type": "execute_result"
    },
    {
     "data": {
      "image/png": "[encoded data removed]",
      "text/plain": [
       "<Figure size 720x720 with 2 Axes>"
      ]
     },
     "metadata": {
      "needs_background": "light"
     },
     "output_type": "display_data"
    }
   ],
   "source": [
    "fig, ax = plt.subplots(figsize=(10,10))         # Sample figsize in inches\n",
    "sns.heatmap(cleaned_data.corr(),annot= True, linewidth=0.5)\n",
    "plt.title(\"Correlation between variables\")"
   ]
  },
  {
   "cell_type": "code",
   "execution_count": 10,
   "id": "47cada5b",
   "metadata": {},
   "outputs": [
    {
     "data": {
      "text/plain": [
       "<AxesSubplot:xlabel='HeartDisease', ylabel='Age'>"
      ]
     },
     "execution_count": 10,
     "metadata": {},
     "output_type": "execute_result"
    },
    {
     "data": {
      "image/png": "[encoded data removed]",
      "text/plain": [
       "<Figure size 432x288 with 1 Axes>"
      ]
     },
     "metadata": {
      "needs_background": "light"
     },
     "output_type": "display_data"
    }
   ],
   "source": [
    "sns.boxplot(data=cleaned_data, y=\"Age\",x=\"HeartDisease\")"
   ]
  },
  {
   "cell_type": "code",
   "execution_count": 11,
   "id": "5b4a8841",
   "metadata": {},
   "outputs": [
    {
     "data": {
      "text/plain": [
       "<AxesSubplot:xlabel='HeartDisease', ylabel='BP'>"
      ]
     },
     "execution_count": 11,
     "metadata": {},
     "output_type": "execute_result"
    },
    {
     "data": {
      "image/png": "[encoded data removed]",
      "text/plain": [
       "<Figure size 432x288 with 1 Axes>"
      ]
     },
     "metadata": {
      "needs_background": "light"
     },
     "output_type": "display_data"
    }
   ],
   "source": [
    "sns.boxplot(data=cleaned_data, y=\"BP\",x=\"HeartDisease\")"
   ]
  },
  {
   "cell_type": "code",
   "execution_count": 12,
   "id": "2f91b24c",
   "metadata": {},
   "outputs": [
    {
     "data": {
      "text/plain": [
       "<AxesSubplot:xlabel='HeartDisease', ylabel='Cholesterol'>"
      ]
     },
     "execution_count": 12,
     "metadata": {},
     "output_type": "execute_result"
    },
    {
     "data": {
      "image/png": "[encoded data removed]",
      "text/plain": [
       "<Figure size 432x288 with 1 Axes>"
      ]
     },
     "metadata": {
      "needs_background": "light"
     },
     "output_type": "display_data"
    }
   ],
   "source": [
    "sns.boxplot(data=cleaned_data, y=\"Cholesterol\",x=\"HeartDisease\")"
   ]
  },
  {
   "cell_type": "markdown",
   "id": "a369ed10",
   "metadata": {},
   "source": [
    "## 4. Feature selection using Recursive feature elimination method using Random forest classifier"
   ]
  },
  {
   "cell_type": "code",
   "execution_count": 13,
   "id": "5c9795f7",
   "metadata": {},
   "outputs": [],
   "source": [
    "# defining the features and target\n",
    "X1 = data1.drop(['HeartDisease'],axis=1)\n",
    "y1 = data1[['HeartDisease']]\n",
    "\n",
    "from sklearn.model_selection import train_test_split\n",
    "X_train1, X_test1, y_train1, y_test1 = train_test_split(X1, y1, test_size=0.30)\n"
   ]
  },
  {
   "cell_type": "code",
   "execution_count": 14,
   "id": "8adbb643",
   "metadata": {},
   "outputs": [
    {
     "data": {
      "text/plain": [
       "Index(['Age', 'BP', 'Cholesterol', 'Max_HR', 'ST_depression',\n",
       "       'Exercise_angina_1', 'Chest_pain_type_4', 'Thallium_3', 'Thallium_7'],\n",
       "      dtype='object')"
      ]
     },
     "execution_count": 14,
     "metadata": {},
     "output_type": "execute_result"
    }
   ],
   "source": [
    "from sklearn.ensemble import RandomForestClassifier\n",
    "from sklearn.feature_selection import RFE\n",
    "\n",
    "rfe_method = RFE(RandomForestClassifier(n_estimators=10, random_state=10),\n",
    "    n_features_to_select=9,step=2)\n",
    "\n",
    "rfe_method.fit(X_train1, y_train1)\n",
    "X_train1.columns[(rfe_method.get_support())] "
   ]
  },
  {
   "cell_type": "markdown",
   "id": "439ce179",
   "metadata": {},
   "source": [
    "8 features would give 81% accuracy \n",
    "10 features would give 88% accuracy\n",
    "Hence 9 features are selected"
   ]
  },
  {
   "cell_type": "markdown",
   "id": "4194da9f",
   "metadata": {},
   "source": [
    "## 5. Linear Regression Model"
   ]
  },
  {
   "cell_type": "code",
   "execution_count": 15,
   "id": "c3c5c00e",
   "metadata": {},
   "outputs": [],
   "source": [
    "#Training the model with best risk factors\n",
    "X_features=X1[['Age', 'BP', 'Cholesterol', 'Max_HR', 'ST_depression',\n",
    "       'Numberofvesselsfluro_0', 'Chest_pain_type_4', 'Thallium_3',\n",
    "       'Thallium_7']]\n",
    "Y_features= y1[['HeartDisease']]"
   ]
  },
  {
   "cell_type": "code",
   "execution_count": 16,
   "id": "f9220c79",
   "metadata": {},
   "outputs": [
    {
     "data": {
      "text/plain": [
       "LogisticRegression()"
      ]
     },
     "execution_count": 16,
     "metadata": {},
     "output_type": "execute_result"
    }
   ],
   "source": [
    "from sklearn.linear_model import LogisticRegression\n",
    "from sklearn.model_selection import train_test_split\n",
    "X_train, X_test, y_train, y_test = train_test_split(X_features, Y_features, test_size=0.30, random_state=30)\n",
    "\n",
    "model = LogisticRegression()\n",
    "model.fit(X_train,y_train)"
   ]
  },
  {
   "cell_type": "code",
   "execution_count": 17,
   "id": "32ea238f",
   "metadata": {},
   "outputs": [
    {
     "data": {
      "text/html": [
       "<div>\n",
       "<style scoped>\n",
       "    .dataframe tbody tr th:only-of-type {\n",
       "        vertical-align: middle;\n",
       "    }\n",
       "\n",
       "    .dataframe tbody tr th {\n",
       "        vertical-align: top;\n",
       "    }\n",
       "\n",
       "    .dataframe thead th {\n",
       "        text-align: right;\n",
       "    }\n",
       "</style>\n",
       "<table border=\"1\" class=\"dataframe\">\n",
       "  <thead>\n",
       "    <tr style=\"text-align: right;\">\n",
       "      <th></th>\n",
       "      <th>HeartDisease</th>\n",
       "      <th>Disease_prediction</th>\n",
       "      <th>Success</th>\n",
       "    </tr>\n",
       "  </thead>\n",
       "  <tbody>\n",
       "    <tr>\n",
       "      <th>245</th>\n",
       "      <td>1</td>\n",
       "      <td>1</td>\n",
       "      <td>1</td>\n",
       "    </tr>\n",
       "    <tr>\n",
       "      <th>128</th>\n",
       "      <td>0</td>\n",
       "      <td>0</td>\n",
       "      <td>1</td>\n",
       "    </tr>\n",
       "    <tr>\n",
       "      <th>1</th>\n",
       "      <td>0</td>\n",
       "      <td>0</td>\n",
       "      <td>1</td>\n",
       "    </tr>\n",
       "    <tr>\n",
       "      <th>64</th>\n",
       "      <td>0</td>\n",
       "      <td>0</td>\n",
       "      <td>1</td>\n",
       "    </tr>\n",
       "    <tr>\n",
       "      <th>85</th>\n",
       "      <td>0</td>\n",
       "      <td>0</td>\n",
       "      <td>1</td>\n",
       "    </tr>\n",
       "    <tr>\n",
       "      <th>...</th>\n",
       "      <td>...</td>\n",
       "      <td>...</td>\n",
       "      <td>...</td>\n",
       "    </tr>\n",
       "    <tr>\n",
       "      <th>88</th>\n",
       "      <td>0</td>\n",
       "      <td>0</td>\n",
       "      <td>1</td>\n",
       "    </tr>\n",
       "    <tr>\n",
       "      <th>222</th>\n",
       "      <td>0</td>\n",
       "      <td>0</td>\n",
       "      <td>1</td>\n",
       "    </tr>\n",
       "    <tr>\n",
       "      <th>118</th>\n",
       "      <td>0</td>\n",
       "      <td>0</td>\n",
       "      <td>1</td>\n",
       "    </tr>\n",
       "    <tr>\n",
       "      <th>155</th>\n",
       "      <td>0</td>\n",
       "      <td>0</td>\n",
       "      <td>1</td>\n",
       "    </tr>\n",
       "    <tr>\n",
       "      <th>144</th>\n",
       "      <td>1</td>\n",
       "      <td>0</td>\n",
       "      <td>0</td>\n",
       "    </tr>\n",
       "  </tbody>\n",
       "</table>\n",
       "<p>81 rows × 3 columns</p>\n",
       "</div>"
      ],
      "text/plain": [
       "     HeartDisease  Disease_prediction  Success\n",
       "245             1                   1        1\n",
       "128             0                   0        1\n",
       "1               0                   0        1\n",
       "64              0                   0        1\n",
       "85              0                   0        1\n",
       "..            ...                 ...      ...\n",
       "88              0                   0        1\n",
       "222             0                   0        1\n",
       "118             0                   0        1\n",
       "155             0                   0        1\n",
       "144             1                   0        0\n",
       "\n",
       "[81 rows x 3 columns]"
      ]
     },
     "execution_count": 17,
     "metadata": {},
     "output_type": "execute_result"
    }
   ],
   "source": [
    "#To predict success rate\n",
    "y_test_pred = pd.DataFrame(model.predict(X_test), index = y_test.index, columns = ['Disease_prediction'])\n",
    "results_rf = y_test.join(y_test_pred)\n",
    "\n",
    "results_rf['Success'] = (results_rf['HeartDisease'] == results_rf['Disease_prediction']).astype(int)\n",
    "results_rf"
   ]
  },
  {
   "cell_type": "code",
   "execution_count": 18,
   "id": "52523e01",
   "metadata": {},
   "outputs": [
    {
     "name": "stdout",
     "output_type": "stream",
     "text": [
      "              precision    recall  f1-score   support\n",
      "\n",
      "           0       0.89      0.96      0.92        50\n",
      "           1       0.93      0.81      0.86        31\n",
      "\n",
      "    accuracy                           0.90        81\n",
      "   macro avg       0.91      0.88      0.89        81\n",
      "weighted avg       0.90      0.90      0.90        81\n",
      "\n"
     ]
    },
    {
     "data": {
      "text/plain": [
       "array([[48,  2],\n",
       "       [ 6, 25]], dtype=int64)"
      ]
     },
     "execution_count": 18,
     "metadata": {},
     "output_type": "execute_result"
    }
   ],
   "source": [
    "#Print the otput using classification_report and confusion_matrix\n",
    "from sklearn.metrics import classification_report, confusion_matrix\n",
    "print(classification_report(y_test,y_test_pred))\n",
    "confusion_matrix(y_test, y_test_pred)\n"
   ]
  },
  {
   "cell_type": "code",
   "execution_count": 19,
   "id": "6cff6d24",
   "metadata": {},
   "outputs": [
    {
     "name": "stdout",
     "output_type": "stream",
     "text": [
      "Logistic testing accuracy is  90.0 %\n"
     ]
    }
   ],
   "source": [
    "#Determing the accuracy score\n",
    "from sklearn.metrics import accuracy_score\n",
    "accuracy= accuracy_score(y_test,y_test_pred)\n",
    "print (\"Logistic testing accuracy is \", round(accuracy,2) * 100, \"%\")"
   ]
  },
  {
   "cell_type": "code",
   "execution_count": 20,
   "id": "6be4b549",
   "metadata": {},
   "outputs": [
    {
     "data": {
      "text/plain": [
       "Text(0, 0.5, 'True Positive Rate')"
      ]
     },
     "execution_count": 20,
     "metadata": {},
     "output_type": "execute_result"
    },
    {
     "data": {
      "image/png": "[encoded data removed]",
      "text/plain": [
       "<Figure size 720x576 with 1 Axes>"
      ]
     },
     "metadata": {
      "needs_background": "light"
     },
     "output_type": "display_data"
    }
   ],
   "source": [
    "#To display the ROC-AUC curve\n",
    "from sklearn.metrics import roc_auc_score,roc_curve,auc\n",
    "fpr , tpr , thresholds   = roc_curve(y_test,y_test_pred)\n",
    "    \n",
    "fig = plt.figure(figsize=(10,8))\n",
    "ax  = fig.add_subplot(111)\n",
    "ax.plot(fpr,tpr,label   = [\"Area under curve : \",auc(fpr,tpr)],linewidth=2,linestyle=\"dotted\")\n",
    "ax.plot([0,1],[0,1],linewidth=2,linestyle=\"dashed\")\n",
    "plt.legend(loc=\"best\")\n",
    "plt.title(\"ROC-CURVE & AREA UNDER CURVE\")\n",
    "plt.xlabel(\"False Positive Rate\")\n",
    "plt.ylabel(\"True Positive Rate\")"
   ]
  },
  {
   "cell_type": "markdown",
   "id": "2584baad",
   "metadata": {},
   "source": [
    "For your refernce, the below accuracy is obtained for the dataset without selecting the best risk factors"
   ]
  },
  {
   "cell_type": "code",
   "execution_count": 21,
   "id": "28576102",
   "metadata": {},
   "outputs": [
    {
     "ename": "NameError",
     "evalue": "name 'y_test_pred1' is not defined",
     "output_type": "error",
     "traceback": [
      "\u001b[1;31m---------------------------------------------------------------------------\u001b[0m",
      "\u001b[1;31mNameError\u001b[0m                                 Traceback (most recent call last)",
      "Input \u001b[1;32mIn [21]\u001b[0m, in \u001b[0;36m<cell line: 11>\u001b[1;34m()\u001b[0m\n\u001b[0;32m      8\u001b[0m model\u001b[38;5;241m.\u001b[39mfit(X_train1,y_train1)\n\u001b[0;32m     10\u001b[0m \u001b[38;5;28;01mfrom\u001b[39;00m \u001b[38;5;21;01msklearn\u001b[39;00m\u001b[38;5;21;01m.\u001b[39;00m\u001b[38;5;21;01mmetrics\u001b[39;00m \u001b[38;5;28;01mimport\u001b[39;00m classification_report, confusion_matrix\n\u001b[1;32m---> 11\u001b[0m \u001b[38;5;28mprint\u001b[39m(classification_report(y_test1,\u001b[43my_test_pred1\u001b[49m))\n\u001b[0;32m     12\u001b[0m confusion_matrix(y_test1, y_test_pred1)\n",
      "\u001b[1;31mNameError\u001b[0m: name 'y_test_pred1' is not defined"
     ]
    }
   ],
   "source": [
    "from sklearn.linear_model import LogisticRegression\n",
    "from sklearn.model_selection import train_test_split\n",
    "X_clean = cleaned_data.drop(['HeartDisease'],axis=1)\n",
    "y_clean = cleaned_data[['HeartDisease']]\n",
    "X_train1, X_test1, y_train1, y_test1 = train_test_split(X_clean, y_clean, test_size=0.30, random_state=30)\n",
    "\n",
    "model = LogisticRegression()\n",
    "model.fit(X_train1,y_train1)\n",
    "\n",
    "from sklearn.metrics import classification_report, confusion_matrix\n",
    "print(classification_report(y_test1,y_test_pred1))\n",
    "confusion_matrix(y_test1, y_test_pred1)\n",
    "\n"
   ]
  }
 ],
 "metadata": {
  "kernelspec": {
   "display_name": "Python 3 (ipykernel)",
   "language": "python",
   "name": "python3"
  },
  "language_info": {
   "codemirror_mode": {
    "name": "ipython",
    "version": 3
   },
   "file_extension": ".py",
   "mimetype": "text/x-python",
   "name": "python",
   "nbconvert_exporter": "python",
   "pygments_lexer": "ipython3",
   "version": "3.9.12"
  }
 },
 "nbformat": 4,
 "nbformat_minor": 5
}
