{
 "cells": [
  {
   "cell_type": "markdown",
   "id": "558501fe-1f7d-4a5e-a37c-f23dd8114395",
   "metadata": {},
   "source": [
    "# Abi Cash inc."
   ]
  },
  {
   "cell_type": "markdown",
   "id": "40a7bdd6-5cc4-4f9c-bd70-35c22f09785e",
   "metadata": {},
   "source": [
    "## Employees dataset"
   ]
  },
  {
   "cell_type": "markdown",
   "id": "aa71a72c-ea81-48cc-b63d-b65dfc67d98f",
   "metadata": {},
   "source": [
    "Importing the libraries"
   ]
  },
  {
   "cell_type": "code",
   "execution_count": 1,
   "id": "0f147a89-ff30-4381-a3be-3ce4b2eba439",
   "metadata": {},
   "outputs": [],
   "source": [
    "import matplotlib.pyplot as plt\n",
    "import numpy as np\n",
    "import seaborn as sns\n",
    "import pandas as pd"
   ]
  },
  {
   "cell_type": "markdown",
   "id": "7f0520f7-16a1-4a51-a155-8fa04ad2a4b1",
   "metadata": {},
   "source": [
    "Reading the file employees"
   ]
  },
  {
   "cell_type": "code",
   "execution_count": 2,
   "id": "d6b798a1-2404-4840-82a9-f652e2db2b41",
   "metadata": {},
   "outputs": [
    {
     "data": {
      "text/html": [
       "<div>\n",
       "<style scoped>\n",
       "    .dataframe tbody tr th:only-of-type {\n",
       "        vertical-align: middle;\n",
       "    }\n",
       "\n",
       "    .dataframe tbody tr th {\n",
       "        vertical-align: top;\n",
       "    }\n",
       "\n",
       "    .dataframe thead th {\n",
       "        text-align: right;\n",
       "    }\n",
       "</style>\n",
       "<table border=\"1\" class=\"dataframe\">\n",
       "  <thead>\n",
       "    <tr style=\"text-align: right;\">\n",
       "      <th></th>\n",
       "      <th>First Name</th>\n",
       "      <th>Gender</th>\n",
       "      <th>Start Date</th>\n",
       "      <th>Last Login Time</th>\n",
       "      <th>Salary</th>\n",
       "      <th>Bonus %</th>\n",
       "      <th>Senior Management</th>\n",
       "      <th>Team</th>\n",
       "    </tr>\n",
       "  </thead>\n",
       "  <tbody>\n",
       "    <tr>\n",
       "      <th>0</th>\n",
       "      <td>Douglas</td>\n",
       "      <td>Male</td>\n",
       "      <td>8/6/1993</td>\n",
       "      <td>12:42 PM</td>\n",
       "      <td>97308</td>\n",
       "      <td>6.945</td>\n",
       "      <td>True</td>\n",
       "      <td>Marketing</td>\n",
       "    </tr>\n",
       "    <tr>\n",
       "      <th>1</th>\n",
       "      <td>Thomas</td>\n",
       "      <td>Male</td>\n",
       "      <td>3/31/1996</td>\n",
       "      <td>6:53 AM</td>\n",
       "      <td>61933</td>\n",
       "      <td>4.170</td>\n",
       "      <td>True</td>\n",
       "      <td>NaN</td>\n",
       "    </tr>\n",
       "    <tr>\n",
       "      <th>2</th>\n",
       "      <td>Maria</td>\n",
       "      <td>Female</td>\n",
       "      <td>4/23/1993</td>\n",
       "      <td>11:17 AM</td>\n",
       "      <td>130590</td>\n",
       "      <td>11.858</td>\n",
       "      <td>False</td>\n",
       "      <td>Finance</td>\n",
       "    </tr>\n",
       "    <tr>\n",
       "      <th>3</th>\n",
       "      <td>Jerry</td>\n",
       "      <td>Male</td>\n",
       "      <td>3/4/2005</td>\n",
       "      <td>1:00 PM</td>\n",
       "      <td>138705</td>\n",
       "      <td>9.340</td>\n",
       "      <td>True</td>\n",
       "      <td>Finance</td>\n",
       "    </tr>\n",
       "    <tr>\n",
       "      <th>4</th>\n",
       "      <td>Larry</td>\n",
       "      <td>Male</td>\n",
       "      <td>1/24/1998</td>\n",
       "      <td>4:47 PM</td>\n",
       "      <td>101004</td>\n",
       "      <td>1.389</td>\n",
       "      <td>True</td>\n",
       "      <td>Client Services</td>\n",
       "    </tr>\n",
       "  </tbody>\n",
       "</table>\n",
       "</div>"
      ],
      "text/plain": [
       "  First Name  Gender Start Date Last Login Time  Salary  Bonus %  \\\n",
       "0    Douglas    Male   8/6/1993        12:42 PM   97308    6.945   \n",
       "1     Thomas    Male  3/31/1996         6:53 AM   61933    4.170   \n",
       "2      Maria  Female  4/23/1993        11:17 AM  130590   11.858   \n",
       "3      Jerry    Male   3/4/2005         1:00 PM  138705    9.340   \n",
       "4      Larry    Male  1/24/1998         4:47 PM  101004    1.389   \n",
       "\n",
       "  Senior Management             Team  \n",
       "0              True        Marketing  \n",
       "1              True              NaN  \n",
       "2             False          Finance  \n",
       "3              True          Finance  \n",
       "4              True  Client Services  "
      ]
     },
     "execution_count": 2,
     "metadata": {},
     "output_type": "execute_result"
    }
   ],
   "source": [
    "emdata= pd.read_csv(\"employees.csv\")\n",
    "emdata.head()"
   ]
  },
  {
   "cell_type": "markdown",
   "id": "121dc76d-f631-49c4-a710-666cc61c49a7",
   "metadata": {},
   "source": [
    "Groupping"
   ]
  },
  {
   "cell_type": "code",
   "execution_count": 58,
   "id": "52130896-fcf6-4e4d-9eaa-7bb051c9fbcc",
   "metadata": {},
   "outputs": [
    {
     "data": {
      "text/plain": [
       "First Name  Gender   \n",
       "Aaron       Male         57492.000000\n",
       "            no gender    63126.000000\n",
       "Adam        Male         80494.500000\n",
       "Alan        Male         76619.500000\n",
       "            no gender    40341.000000\n",
       "                             ...     \n",
       "William     Male         75139.666667\n",
       "Willie      Male         92653.000000\n",
       "unknown     Female       95419.935484\n",
       "            Male         97198.241379\n",
       "            no gender    92281.000000\n",
       "Name: Salary, Length: 300, dtype: float64"
      ]
     },
     "execution_count": 58,
     "metadata": {},
     "output_type": "execute_result"
    }
   ],
   "source": [
    "emdata.groupby(['First Name', 'Gender'])['Salary'].mean()"
   ]
  },
  {
   "cell_type": "code",
   "execution_count": 61,
   "id": "ccccebe3-6332-4e1f-9543-7ec281208035",
   "metadata": {},
   "outputs": [
    {
     "data": {
      "text/plain": [
       "First Name  Gender   \n",
       "Aaron       Male          58755.0\n",
       "            no gender     63126.0\n",
       "Adam        Male          83301.5\n",
       "Alan        Male          76619.5\n",
       "            no gender     40341.0\n",
       "                           ...   \n",
       "William     Male          66521.0\n",
       "Willie      Male          64363.0\n",
       "unknown     Female        95866.0\n",
       "            Male         103877.0\n",
       "            no gender     87103.0\n",
       "Name: Salary, Length: 300, dtype: float64"
      ]
     },
     "execution_count": 61,
     "metadata": {},
     "output_type": "execute_result"
    }
   ],
   "source": [
    "emdata.groupby(['First Name', 'Gender'])['Salary'].median()"
   ]
  },
  {
   "cell_type": "code",
   "execution_count": 43,
   "id": "c3a42ca4-627d-4519-9936-2b67e2694a78",
   "metadata": {},
   "outputs": [
    {
     "name": "stdout",
     "output_type": "stream",
     "text": [
      "<class 'pandas.core.frame.DataFrame'>\n",
      "RangeIndex: 1000 entries, 0 to 999\n",
      "Data columns (total 8 columns):\n",
      " #   Column             Non-Null Count  Dtype  \n",
      "---  ------             --------------  -----  \n",
      " 0   First Name         1000 non-null   object \n",
      " 1   Gender             1000 non-null   object \n",
      " 2   Start Date         1000 non-null   object \n",
      " 3   Last Login Time    1000 non-null   object \n",
      " 4   Salary             1000 non-null   int64  \n",
      " 5   Bonus %            1000 non-null   float64\n",
      " 6   Senior Management  1000 non-null   object \n",
      " 7   Team               1000 non-null   object \n",
      "dtypes: float64(1), int64(1), object(6)\n",
      "memory usage: 62.6+ KB\n"
     ]
    }
   ],
   "source": [
    "emdata.info()"
   ]
  },
  {
   "cell_type": "markdown",
   "id": "cb021891-111f-450e-aed8-7f8a9a792f2e",
   "metadata": {},
   "source": [
    "Checking how much null values are there"
   ]
  },
  {
   "cell_type": "code",
   "execution_count": 4,
   "id": "3d853ab4-58f6-4263-93fc-7864339d863b",
   "metadata": {},
   "outputs": [
    {
     "data": {
      "text/plain": [
       "First Name            67\n",
       "Gender               145\n",
       "Start Date             0\n",
       "Last Login Time        0\n",
       "Salary                 0\n",
       "Bonus %                0\n",
       "Senior Management     67\n",
       "Team                  43\n",
       "dtype: int64"
      ]
     },
     "execution_count": 4,
     "metadata": {},
     "output_type": "execute_result"
    }
   ],
   "source": [
    "emdata.isnull().sum()"
   ]
  },
  {
   "cell_type": "markdown",
   "id": "89892ad6-1e4a-439b-ae18-348237a8ea4d",
   "metadata": {},
   "source": [
    "Changing null values "
   ]
  },
  {
   "cell_type": "code",
   "execution_count": 5,
   "id": "68cf965b-482e-4ac0-995e-ab36858ebeab",
   "metadata": {},
   "outputs": [
    {
     "data": {
      "text/plain": [
       "First Name           67\n",
       "Gender                0\n",
       "Start Date            0\n",
       "Last Login Time       0\n",
       "Salary                0\n",
       "Bonus %               0\n",
       "Senior Management    67\n",
       "Team                 43\n",
       "dtype: int64"
      ]
     },
     "execution_count": 5,
     "metadata": {},
     "output_type": "execute_result"
    }
   ],
   "source": [
    "emdata[\"Gender\"].fillna(\"no gender\",inplace=True)\n",
    "emdata.isnull().sum()"
   ]
  },
  {
   "cell_type": "code",
   "execution_count": 7,
   "id": "815f95c2-d3ee-41eb-80bc-5b89be5e774d",
   "metadata": {},
   "outputs": [
    {
     "data": {
      "text/plain": [
       "First Name            0\n",
       "Gender                0\n",
       "Start Date            0\n",
       "Last Login Time       0\n",
       "Salary                0\n",
       "Bonus %               0\n",
       "Senior Management    67\n",
       "Team                 43\n",
       "dtype: int64"
      ]
     },
     "execution_count": 7,
     "metadata": {},
     "output_type": "execute_result"
    }
   ],
   "source": [
    "emdata[\"First Name\"].fillna(\"unknown\",inplace=True)\n",
    "emdata.isnull().sum()"
   ]
  },
  {
   "cell_type": "code",
   "execution_count": 44,
   "id": "2234c003-3de0-4eed-ac5c-436142a37df8",
   "metadata": {},
   "outputs": [
    {
     "data": {
      "text/plain": [
       "First Name           0\n",
       "Gender               0\n",
       "Start Date           0\n",
       "Last Login Time      0\n",
       "Salary               0\n",
       "Bonus %              0\n",
       "Senior Management    0\n",
       "Team                 0\n",
       "dtype: int64"
      ]
     },
     "execution_count": 44,
     "metadata": {},
     "output_type": "execute_result"
    }
   ],
   "source": [
    "mode=emdata[\"Senior Management\"].mode().values[0]\n",
    "emdata[\"Senior Management\"]=emdata[\"Senior Management\"].replace(np.nan,mode)\n",
    "emdata.isnull().sum()"
   ]
  },
  {
   "cell_type": "code",
   "execution_count": 9,
   "id": "7f896437-224a-40c0-8705-fa4d6dc2df03",
   "metadata": {},
   "outputs": [
    {
     "data": {
      "text/plain": [
       "First Name            0\n",
       "Gender                0\n",
       "Start Date            0\n",
       "Last Login Time       0\n",
       "Salary                0\n",
       "Bonus %               0\n",
       "Senior Management     0\n",
       "Team                 43\n",
       "dtype: int64"
      ]
     },
     "execution_count": 9,
     "metadata": {},
     "output_type": "execute_result"
    }
   ],
   "source": [
    "emdata[\"Senior Management\"].fillna(\"undecidable\",inplace=True)\n",
    "emdata.isnull().sum()"
   ]
  },
  {
   "cell_type": "code",
   "execution_count": 11,
   "id": "f0c3a6bd-1717-4a1f-8584-befcc1e4920c",
   "metadata": {},
   "outputs": [
    {
     "data": {
      "text/plain": [
       "First Name           0\n",
       "Gender               0\n",
       "Start Date           0\n",
       "Last Login Time      0\n",
       "Salary               0\n",
       "Bonus %              0\n",
       "Senior Management    0\n",
       "Team                 0\n",
       "dtype: int64"
      ]
     },
     "execution_count": 11,
     "metadata": {},
     "output_type": "execute_result"
    }
   ],
   "source": [
    "emdata[\"Team\"].fillna(\"not_assigned\",inplace=True)\n",
    "emdata.isnull().sum()"
   ]
  },
  {
   "cell_type": "code",
   "execution_count": 19,
   "id": "22316f43-6ecc-4dbb-b4fc-7b303cebe296",
   "metadata": {},
   "outputs": [
    {
     "data": {
      "text/plain": [
       "First Name           0\n",
       "Gender               0\n",
       "Start Date           0\n",
       "Last Login Time      0\n",
       "Salary               0\n",
       "Bonus %              0\n",
       "Senior Management    0\n",
       "Team                 0\n",
       "dtype: int64"
      ]
     },
     "execution_count": 19,
     "metadata": {},
     "output_type": "execute_result"
    }
   ],
   "source": [
    "emdata.isnull().sum()"
   ]
  },
  {
   "cell_type": "code",
   "execution_count": 45,
   "id": "d6c1c9fc-c24f-412c-a0fb-9b0e4714cfd7",
   "metadata": {},
   "outputs": [
    {
     "data": {
      "text/html": [
       "<div>\n",
       "<style scoped>\n",
       "    .dataframe tbody tr th:only-of-type {\n",
       "        vertical-align: middle;\n",
       "    }\n",
       "\n",
       "    .dataframe tbody tr th {\n",
       "        vertical-align: top;\n",
       "    }\n",
       "\n",
       "    .dataframe thead th {\n",
       "        text-align: right;\n",
       "    }\n",
       "</style>\n",
       "<table border=\"1\" class=\"dataframe\">\n",
       "  <thead>\n",
       "    <tr style=\"text-align: right;\">\n",
       "      <th></th>\n",
       "      <th>First Name</th>\n",
       "      <th>Gender</th>\n",
       "      <th>Start Date</th>\n",
       "      <th>Last Login Time</th>\n",
       "      <th>Salary</th>\n",
       "      <th>Bonus %</th>\n",
       "      <th>Senior Management</th>\n",
       "      <th>Team</th>\n",
       "    </tr>\n",
       "  </thead>\n",
       "  <tbody>\n",
       "    <tr>\n",
       "      <th>0</th>\n",
       "      <td>Douglas</td>\n",
       "      <td>Male</td>\n",
       "      <td>8/6/1993</td>\n",
       "      <td>12:42 PM</td>\n",
       "      <td>97308</td>\n",
       "      <td>6.945</td>\n",
       "      <td>True</td>\n",
       "      <td>Marketing</td>\n",
       "    </tr>\n",
       "    <tr>\n",
       "      <th>1</th>\n",
       "      <td>Thomas</td>\n",
       "      <td>Male</td>\n",
       "      <td>3/31/1996</td>\n",
       "      <td>6:53 AM</td>\n",
       "      <td>61933</td>\n",
       "      <td>4.170</td>\n",
       "      <td>True</td>\n",
       "      <td>not_assigned</td>\n",
       "    </tr>\n",
       "    <tr>\n",
       "      <th>2</th>\n",
       "      <td>Maria</td>\n",
       "      <td>Female</td>\n",
       "      <td>4/23/1993</td>\n",
       "      <td>11:17 AM</td>\n",
       "      <td>130590</td>\n",
       "      <td>11.858</td>\n",
       "      <td>False</td>\n",
       "      <td>Finance</td>\n",
       "    </tr>\n",
       "    <tr>\n",
       "      <th>3</th>\n",
       "      <td>Jerry</td>\n",
       "      <td>Male</td>\n",
       "      <td>3/4/2005</td>\n",
       "      <td>1:00 PM</td>\n",
       "      <td>138705</td>\n",
       "      <td>9.340</td>\n",
       "      <td>True</td>\n",
       "      <td>Finance</td>\n",
       "    </tr>\n",
       "    <tr>\n",
       "      <th>4</th>\n",
       "      <td>Larry</td>\n",
       "      <td>Male</td>\n",
       "      <td>1/24/1998</td>\n",
       "      <td>4:47 PM</td>\n",
       "      <td>101004</td>\n",
       "      <td>1.389</td>\n",
       "      <td>True</td>\n",
       "      <td>Client Services</td>\n",
       "    </tr>\n",
       "    <tr>\n",
       "      <th>...</th>\n",
       "      <td>...</td>\n",
       "      <td>...</td>\n",
       "      <td>...</td>\n",
       "      <td>...</td>\n",
       "      <td>...</td>\n",
       "      <td>...</td>\n",
       "      <td>...</td>\n",
       "      <td>...</td>\n",
       "    </tr>\n",
       "    <tr>\n",
       "      <th>995</th>\n",
       "      <td>Henry</td>\n",
       "      <td>no gender</td>\n",
       "      <td>11/23/2014</td>\n",
       "      <td>6:09 AM</td>\n",
       "      <td>132483</td>\n",
       "      <td>16.655</td>\n",
       "      <td>False</td>\n",
       "      <td>Distribution</td>\n",
       "    </tr>\n",
       "    <tr>\n",
       "      <th>996</th>\n",
       "      <td>Phillip</td>\n",
       "      <td>Male</td>\n",
       "      <td>1/31/1984</td>\n",
       "      <td>6:30 AM</td>\n",
       "      <td>42392</td>\n",
       "      <td>19.675</td>\n",
       "      <td>False</td>\n",
       "      <td>Finance</td>\n",
       "    </tr>\n",
       "    <tr>\n",
       "      <th>997</th>\n",
       "      <td>Russell</td>\n",
       "      <td>Male</td>\n",
       "      <td>5/20/2013</td>\n",
       "      <td>12:39 PM</td>\n",
       "      <td>96914</td>\n",
       "      <td>1.421</td>\n",
       "      <td>False</td>\n",
       "      <td>Product</td>\n",
       "    </tr>\n",
       "    <tr>\n",
       "      <th>998</th>\n",
       "      <td>Larry</td>\n",
       "      <td>Male</td>\n",
       "      <td>4/20/2013</td>\n",
       "      <td>4:45 PM</td>\n",
       "      <td>60500</td>\n",
       "      <td>11.985</td>\n",
       "      <td>False</td>\n",
       "      <td>Business Development</td>\n",
       "    </tr>\n",
       "    <tr>\n",
       "      <th>999</th>\n",
       "      <td>Albert</td>\n",
       "      <td>Male</td>\n",
       "      <td>5/15/2012</td>\n",
       "      <td>6:24 PM</td>\n",
       "      <td>129949</td>\n",
       "      <td>10.169</td>\n",
       "      <td>True</td>\n",
       "      <td>Sales</td>\n",
       "    </tr>\n",
       "  </tbody>\n",
       "</table>\n",
       "<p>1000 rows × 8 columns</p>\n",
       "</div>"
      ],
      "text/plain": [
       "    First Name     Gender  Start Date Last Login Time  Salary  Bonus %  \\\n",
       "0      Douglas       Male    8/6/1993        12:42 PM   97308    6.945   \n",
       "1       Thomas       Male   3/31/1996         6:53 AM   61933    4.170   \n",
       "2        Maria     Female   4/23/1993        11:17 AM  130590   11.858   \n",
       "3        Jerry       Male    3/4/2005         1:00 PM  138705    9.340   \n",
       "4        Larry       Male   1/24/1998         4:47 PM  101004    1.389   \n",
       "..         ...        ...         ...             ...     ...      ...   \n",
       "995      Henry  no gender  11/23/2014         6:09 AM  132483   16.655   \n",
       "996    Phillip       Male   1/31/1984         6:30 AM   42392   19.675   \n",
       "997    Russell       Male   5/20/2013        12:39 PM   96914    1.421   \n",
       "998      Larry       Male   4/20/2013         4:45 PM   60500   11.985   \n",
       "999     Albert       Male   5/15/2012         6:24 PM  129949   10.169   \n",
       "\n",
       "    Senior Management                  Team  \n",
       "0                True             Marketing  \n",
       "1                True          not_assigned  \n",
       "2               False               Finance  \n",
       "3                True               Finance  \n",
       "4                True       Client Services  \n",
       "..                ...                   ...  \n",
       "995             False          Distribution  \n",
       "996             False               Finance  \n",
       "997             False               Product  \n",
       "998             False  Business Development  \n",
       "999              True                 Sales  \n",
       "\n",
       "[1000 rows x 8 columns]"
      ]
     },
     "execution_count": 45,
     "metadata": {},
     "output_type": "execute_result"
    }
   ],
   "source": [
    "emdata.dropna(axis=0)"
   ]
  },
  {
   "cell_type": "code",
   "execution_count": 59,
   "id": "e3d7df6b-c001-4951-987a-66c536aff914",
   "metadata": {},
   "outputs": [
    {
     "data": {
      "text/html": [
       "<div>\n",
       "<style scoped>\n",
       "    .dataframe tbody tr th:only-of-type {\n",
       "        vertical-align: middle;\n",
       "    }\n",
       "\n",
       "    .dataframe tbody tr th {\n",
       "        vertical-align: top;\n",
       "    }\n",
       "\n",
       "    .dataframe thead th {\n",
       "        text-align: right;\n",
       "    }\n",
       "</style>\n",
       "<table border=\"1\" class=\"dataframe\">\n",
       "  <thead>\n",
       "    <tr style=\"text-align: right;\">\n",
       "      <th></th>\n",
       "      <th>First Name</th>\n",
       "      <th>Gender</th>\n",
       "      <th>Start Date</th>\n",
       "      <th>Last Login Time</th>\n",
       "      <th>Salary</th>\n",
       "      <th>Bonus %</th>\n",
       "      <th>Senior Management</th>\n",
       "      <th>Team</th>\n",
       "    </tr>\n",
       "  </thead>\n",
       "  <tbody>\n",
       "    <tr>\n",
       "      <th>0</th>\n",
       "      <td>Douglas</td>\n",
       "      <td>Male</td>\n",
       "      <td>8/6/1993</td>\n",
       "      <td>12:42 PM</td>\n",
       "      <td>97308</td>\n",
       "      <td>6.945</td>\n",
       "      <td>True</td>\n",
       "      <td>Marketing</td>\n",
       "    </tr>\n",
       "    <tr>\n",
       "      <th>1</th>\n",
       "      <td>Thomas</td>\n",
       "      <td>Male</td>\n",
       "      <td>3/31/1996</td>\n",
       "      <td>6:53 AM</td>\n",
       "      <td>61933</td>\n",
       "      <td>4.170</td>\n",
       "      <td>True</td>\n",
       "      <td>not_assigned</td>\n",
       "    </tr>\n",
       "    <tr>\n",
       "      <th>2</th>\n",
       "      <td>Maria</td>\n",
       "      <td>Female</td>\n",
       "      <td>4/23/1993</td>\n",
       "      <td>11:17 AM</td>\n",
       "      <td>130590</td>\n",
       "      <td>11.858</td>\n",
       "      <td>False</td>\n",
       "      <td>Finance</td>\n",
       "    </tr>\n",
       "    <tr>\n",
       "      <th>3</th>\n",
       "      <td>Jerry</td>\n",
       "      <td>Male</td>\n",
       "      <td>3/4/2005</td>\n",
       "      <td>1:00 PM</td>\n",
       "      <td>138705</td>\n",
       "      <td>9.340</td>\n",
       "      <td>True</td>\n",
       "      <td>Finance</td>\n",
       "    </tr>\n",
       "    <tr>\n",
       "      <th>4</th>\n",
       "      <td>Larry</td>\n",
       "      <td>Male</td>\n",
       "      <td>1/24/1998</td>\n",
       "      <td>4:47 PM</td>\n",
       "      <td>101004</td>\n",
       "      <td>1.389</td>\n",
       "      <td>True</td>\n",
       "      <td>Client Services</td>\n",
       "    </tr>\n",
       "    <tr>\n",
       "      <th>...</th>\n",
       "      <td>...</td>\n",
       "      <td>...</td>\n",
       "      <td>...</td>\n",
       "      <td>...</td>\n",
       "      <td>...</td>\n",
       "      <td>...</td>\n",
       "      <td>...</td>\n",
       "      <td>...</td>\n",
       "    </tr>\n",
       "    <tr>\n",
       "      <th>995</th>\n",
       "      <td>Henry</td>\n",
       "      <td>no gender</td>\n",
       "      <td>11/23/2014</td>\n",
       "      <td>6:09 AM</td>\n",
       "      <td>132483</td>\n",
       "      <td>16.655</td>\n",
       "      <td>False</td>\n",
       "      <td>Distribution</td>\n",
       "    </tr>\n",
       "    <tr>\n",
       "      <th>996</th>\n",
       "      <td>Phillip</td>\n",
       "      <td>Male</td>\n",
       "      <td>1/31/1984</td>\n",
       "      <td>6:30 AM</td>\n",
       "      <td>42392</td>\n",
       "      <td>19.675</td>\n",
       "      <td>False</td>\n",
       "      <td>Finance</td>\n",
       "    </tr>\n",
       "    <tr>\n",
       "      <th>997</th>\n",
       "      <td>Russell</td>\n",
       "      <td>Male</td>\n",
       "      <td>5/20/2013</td>\n",
       "      <td>12:39 PM</td>\n",
       "      <td>96914</td>\n",
       "      <td>1.421</td>\n",
       "      <td>False</td>\n",
       "      <td>Product</td>\n",
       "    </tr>\n",
       "    <tr>\n",
       "      <th>998</th>\n",
       "      <td>Larry</td>\n",
       "      <td>Male</td>\n",
       "      <td>4/20/2013</td>\n",
       "      <td>4:45 PM</td>\n",
       "      <td>60500</td>\n",
       "      <td>11.985</td>\n",
       "      <td>False</td>\n",
       "      <td>Business Development</td>\n",
       "    </tr>\n",
       "    <tr>\n",
       "      <th>999</th>\n",
       "      <td>Albert</td>\n",
       "      <td>Male</td>\n",
       "      <td>5/15/2012</td>\n",
       "      <td>6:24 PM</td>\n",
       "      <td>129949</td>\n",
       "      <td>10.169</td>\n",
       "      <td>True</td>\n",
       "      <td>Sales</td>\n",
       "    </tr>\n",
       "  </tbody>\n",
       "</table>\n",
       "<p>1000 rows × 8 columns</p>\n",
       "</div>"
      ],
      "text/plain": [
       "    First Name     Gender  Start Date Last Login Time  Salary  Bonus %  \\\n",
       "0      Douglas       Male    8/6/1993        12:42 PM   97308    6.945   \n",
       "1       Thomas       Male   3/31/1996         6:53 AM   61933    4.170   \n",
       "2        Maria     Female   4/23/1993        11:17 AM  130590   11.858   \n",
       "3        Jerry       Male    3/4/2005         1:00 PM  138705    9.340   \n",
       "4        Larry       Male   1/24/1998         4:47 PM  101004    1.389   \n",
       "..         ...        ...         ...             ...     ...      ...   \n",
       "995      Henry  no gender  11/23/2014         6:09 AM  132483   16.655   \n",
       "996    Phillip       Male   1/31/1984         6:30 AM   42392   19.675   \n",
       "997    Russell       Male   5/20/2013        12:39 PM   96914    1.421   \n",
       "998      Larry       Male   4/20/2013         4:45 PM   60500   11.985   \n",
       "999     Albert       Male   5/15/2012         6:24 PM  129949   10.169   \n",
       "\n",
       "    Senior Management                  Team  \n",
       "0                True             Marketing  \n",
       "1                True          not_assigned  \n",
       "2               False               Finance  \n",
       "3                True               Finance  \n",
       "4                True       Client Services  \n",
       "..                ...                   ...  \n",
       "995             False          Distribution  \n",
       "996             False               Finance  \n",
       "997             False               Product  \n",
       "998             False  Business Development  \n",
       "999              True                 Sales  \n",
       "\n",
       "[1000 rows x 8 columns]"
      ]
     },
     "execution_count": 59,
     "metadata": {},
     "output_type": "execute_result"
    }
   ],
   "source": [
    "emdata.drop_duplicates()"
   ]
  },
  {
   "cell_type": "code",
   "execution_count": 60,
   "id": "a280aecc-3d17-4487-9af2-2b15ba4ce86d",
   "metadata": {},
   "outputs": [
    {
     "data": {
      "text/plain": [
       "First Name           0\n",
       "Gender               0\n",
       "Start Date           0\n",
       "Last Login Time      0\n",
       "Salary               0\n",
       "Bonus %              0\n",
       "Senior Management    0\n",
       "Team                 0\n",
       "dtype: int64"
      ]
     },
     "execution_count": 60,
     "metadata": {},
     "output_type": "execute_result"
    }
   ],
   "source": [
    "emdata.isnull().sum()"
   ]
  },
  {
   "cell_type": "code",
   "execution_count": 20,
   "id": "05ca0ad0-3f3a-4cff-874f-9c3536e41e00",
   "metadata": {},
   "outputs": [
    {
     "data": {
      "text/html": [
       "<div>\n",
       "<style scoped>\n",
       "    .dataframe tbody tr th:only-of-type {\n",
       "        vertical-align: middle;\n",
       "    }\n",
       "\n",
       "    .dataframe tbody tr th {\n",
       "        vertical-align: top;\n",
       "    }\n",
       "\n",
       "    .dataframe thead th {\n",
       "        text-align: right;\n",
       "    }\n",
       "</style>\n",
       "<table border=\"1\" class=\"dataframe\">\n",
       "  <thead>\n",
       "    <tr style=\"text-align: right;\">\n",
       "      <th></th>\n",
       "      <th>First Name</th>\n",
       "      <th>Gender</th>\n",
       "      <th>Start Date</th>\n",
       "      <th>Last Login Time</th>\n",
       "      <th>Salary</th>\n",
       "      <th>Bonus %</th>\n",
       "      <th>Senior Management</th>\n",
       "      <th>Team</th>\n",
       "    </tr>\n",
       "  </thead>\n",
       "  <tbody>\n",
       "    <tr>\n",
       "      <th>0</th>\n",
       "      <td>Douglas</td>\n",
       "      <td>Male</td>\n",
       "      <td>8/6/1993</td>\n",
       "      <td>12:42 PM</td>\n",
       "      <td>97308</td>\n",
       "      <td>6.945</td>\n",
       "      <td>True</td>\n",
       "      <td>Marketing</td>\n",
       "    </tr>\n",
       "    <tr>\n",
       "      <th>1</th>\n",
       "      <td>Thomas</td>\n",
       "      <td>Male</td>\n",
       "      <td>3/31/1996</td>\n",
       "      <td>6:53 AM</td>\n",
       "      <td>61933</td>\n",
       "      <td>4.170</td>\n",
       "      <td>True</td>\n",
       "      <td>not_assigned</td>\n",
       "    </tr>\n",
       "    <tr>\n",
       "      <th>2</th>\n",
       "      <td>Maria</td>\n",
       "      <td>Female</td>\n",
       "      <td>4/23/1993</td>\n",
       "      <td>11:17 AM</td>\n",
       "      <td>130590</td>\n",
       "      <td>11.858</td>\n",
       "      <td>False</td>\n",
       "      <td>Finance</td>\n",
       "    </tr>\n",
       "    <tr>\n",
       "      <th>3</th>\n",
       "      <td>Jerry</td>\n",
       "      <td>Male</td>\n",
       "      <td>3/4/2005</td>\n",
       "      <td>1:00 PM</td>\n",
       "      <td>138705</td>\n",
       "      <td>9.340</td>\n",
       "      <td>True</td>\n",
       "      <td>Finance</td>\n",
       "    </tr>\n",
       "    <tr>\n",
       "      <th>4</th>\n",
       "      <td>Larry</td>\n",
       "      <td>Male</td>\n",
       "      <td>1/24/1998</td>\n",
       "      <td>4:47 PM</td>\n",
       "      <td>101004</td>\n",
       "      <td>1.389</td>\n",
       "      <td>True</td>\n",
       "      <td>Client Services</td>\n",
       "    </tr>\n",
       "  </tbody>\n",
       "</table>\n",
       "</div>"
      ],
      "text/plain": [
       "  First Name  Gender Start Date Last Login Time  Salary  Bonus %  \\\n",
       "0    Douglas    Male   8/6/1993        12:42 PM   97308    6.945   \n",
       "1     Thomas    Male  3/31/1996         6:53 AM   61933    4.170   \n",
       "2      Maria  Female  4/23/1993        11:17 AM  130590   11.858   \n",
       "3      Jerry    Male   3/4/2005         1:00 PM  138705    9.340   \n",
       "4      Larry    Male  1/24/1998         4:47 PM  101004    1.389   \n",
       "\n",
       "  Senior Management             Team  \n",
       "0              True        Marketing  \n",
       "1              True     not_assigned  \n",
       "2             False          Finance  \n",
       "3              True          Finance  \n",
       "4              True  Client Services  "
      ]
     },
     "execution_count": 20,
     "metadata": {},
     "output_type": "execute_result"
    }
   ],
   "source": [
    "emdata.head()"
   ]
  },
  {
   "cell_type": "markdown",
   "id": "3fdb2c2a-df70-4652-be15-f1713d9a06ed",
   "metadata": {},
   "source": [
    "Graphical Analysis"
   ]
  },
  {
   "cell_type": "code",
   "execution_count": 41,
   "id": "0cdf0d83-403d-4297-bb9c-b1cc0ee2a8d7",
   "metadata": {},
   "outputs": [
    {
     "data": {
      "text/plain": [
       "{'whiskers': [<matplotlib.lines.Line2D at 0x21d696b7040>,\n",
       "  <matplotlib.lines.Line2D at 0x21d696b7340>],\n",
       " 'caps': [<matplotlib.lines.Line2D at 0x21d696b7610>,\n",
       "  <matplotlib.lines.Line2D at 0x21d696b78e0>],\n",
       " 'boxes': [<matplotlib.lines.Line2D at 0x21d696a8d30>],\n",
       " 'medians': [<matplotlib.lines.Line2D at 0x21d696b7bb0>],\n",
       " 'fliers': [<matplotlib.lines.Line2D at 0x21d696b7e80>],\n",
       " 'means': []}"
      ]
     },
     "execution_count": 41,
     "metadata": {},
     "output_type": "execute_result"
    },
    {
     "data": {
      "image/png": "[encoded data removed]",
      "text/plain": [
       "<Figure size 432x288 with 1 Axes>"
      ]
     },
     "metadata": {
      "needs_background": "light"
     },
     "output_type": "display_data"
    }
   ],
   "source": [
    "fig, ax = plt.subplots()\n",
    "ax.boxplot(emdata[\"Salary\"])"
   ]
  },
  {
   "cell_type": "markdown",
   "id": "891f4383-527b-4845-b3a9-efc620d4198f",
   "metadata": {},
   "source": [
    "Numerical analysis of data"
   ]
  },
  {
   "cell_type": "code",
   "execution_count": 42,
   "id": "f3cd770b-ad2f-4dbf-97ce-d87e915e9cb2",
   "metadata": {},
   "outputs": [
    {
     "data": {
      "text/html": [
       "<div>\n",
       "<style scoped>\n",
       "    .dataframe tbody tr th:only-of-type {\n",
       "        vertical-align: middle;\n",
       "    }\n",
       "\n",
       "    .dataframe tbody tr th {\n",
       "        vertical-align: top;\n",
       "    }\n",
       "\n",
       "    .dataframe thead th {\n",
       "        text-align: right;\n",
       "    }\n",
       "</style>\n",
       "<table border=\"1\" class=\"dataframe\">\n",
       "  <thead>\n",
       "    <tr style=\"text-align: right;\">\n",
       "      <th></th>\n",
       "      <th>Salary</th>\n",
       "      <th>Bonus %</th>\n",
       "    </tr>\n",
       "  </thead>\n",
       "  <tbody>\n",
       "    <tr>\n",
       "      <th>count</th>\n",
       "      <td>1000.000000</td>\n",
       "      <td>1000.000000</td>\n",
       "    </tr>\n",
       "    <tr>\n",
       "      <th>mean</th>\n",
       "      <td>90662.181000</td>\n",
       "      <td>10.207555</td>\n",
       "    </tr>\n",
       "    <tr>\n",
       "      <th>std</th>\n",
       "      <td>32923.693342</td>\n",
       "      <td>5.528481</td>\n",
       "    </tr>\n",
       "    <tr>\n",
       "      <th>min</th>\n",
       "      <td>35013.000000</td>\n",
       "      <td>1.015000</td>\n",
       "    </tr>\n",
       "    <tr>\n",
       "      <th>25%</th>\n",
       "      <td>62613.000000</td>\n",
       "      <td>5.401750</td>\n",
       "    </tr>\n",
       "    <tr>\n",
       "      <th>50%</th>\n",
       "      <td>90428.000000</td>\n",
       "      <td>9.838500</td>\n",
       "    </tr>\n",
       "    <tr>\n",
       "      <th>75%</th>\n",
       "      <td>118740.250000</td>\n",
       "      <td>14.838000</td>\n",
       "    </tr>\n",
       "    <tr>\n",
       "      <th>max</th>\n",
       "      <td>149908.000000</td>\n",
       "      <td>19.944000</td>\n",
       "    </tr>\n",
       "  </tbody>\n",
       "</table>\n",
       "</div>"
      ],
      "text/plain": [
       "              Salary      Bonus %\n",
       "count    1000.000000  1000.000000\n",
       "mean    90662.181000    10.207555\n",
       "std     32923.693342     5.528481\n",
       "min     35013.000000     1.015000\n",
       "25%     62613.000000     5.401750\n",
       "50%     90428.000000     9.838500\n",
       "75%    118740.250000    14.838000\n",
       "max    149908.000000    19.944000"
      ]
     },
     "execution_count": 42,
     "metadata": {},
     "output_type": "execute_result"
    }
   ],
   "source": [
    "emdata.describe()"
   ]
  },
  {
   "cell_type": "markdown",
   "id": "7b042a87-0ff6-4a19-8d58-d077db9dce65",
   "metadata": {},
   "source": [
    "Univariate analysis"
   ]
  },
  {
   "cell_type": "code",
   "execution_count": 35,
   "id": "cbdbc06f-d0bb-4f52-843c-cf025c7fa068",
   "metadata": {},
   "outputs": [],
   "source": [
    "Q1 = np.percentile(emdata['Salary'], 25,\n",
    "                interpolation = 'midpoint')\n",
    "  \n",
    "Q3 = np.percentile(emdata['Salary'], 75,\n",
    "                interpolation = 'midpoint')\n",
    "IQR = Q3 - Q1"
   ]
  },
  {
   "cell_type": "code",
   "execution_count": 37,
   "id": "8a9df647-a8b8-48eb-8165-a3e3687bf06c",
   "metadata": {},
   "outputs": [],
   "source": [
    "# Upper bound\n",
    "upper = np.where(emdata['Salary'] >= (Q3+1.5*IQR))\n",
    "  \n",
    "# Lower bound\n",
    "lower = np.where(emdata['Salary'] <= (Q1-1.5*IQR))\n"
   ]
  },
  {
   "cell_type": "code",
   "execution_count": 39,
   "id": "9b7f63d0-ea1a-4fde-9bdf-0f9d0aa2695c",
   "metadata": {},
   "outputs": [],
   "source": [
    "# Removing the Outliers\n",
    "emdata.drop(upper[0], inplace = True)\n",
    "emdata.drop(lower[0], inplace = True)"
   ]
  },
  {
   "cell_type": "code",
   "execution_count": 40,
   "id": "137b6180-524c-4073-a1b4-4bb2bb790013",
   "metadata": {},
   "outputs": [
    {
     "data": {
      "text/plain": [
       "<AxesSubplot:xlabel='Salary'>"
      ]
     },
     "execution_count": 40,
     "metadata": {},
     "output_type": "execute_result"
    },
    {
     "data": {
      "image/png": "[encoded data removed]",
      "text/plain": [
       "<Figure size 432x288 with 1 Axes>"
      ]
     },
     "metadata": {
      "needs_background": "light"
     },
     "output_type": "display_data"
    }
   ],
   "source": [
    "sns.boxplot(x=\"Salary\",data=emdata)"
   ]
  },
  {
   "cell_type": "code",
   "execution_count": 57,
   "id": "d83ebf27-fc3b-4d1a-a075-f128707f5981",
   "metadata": {},
   "outputs": [
    {
     "data": {
      "text/plain": [
       "<AxesSubplot:xlabel='Salary', ylabel='Bonus %'>"
      ]
     },
     "execution_count": 57,
     "metadata": {},
     "output_type": "execute_result"
    },
    {
     "data": {
      "image/png": "[encoded data removed]",
      "text/plain": [
       "<Figure size 432x288 with 1 Axes>"
      ]
     },
     "metadata": {
      "needs_background": "light"
     },
     "output_type": "display_data"
    }
   ],
   "source": [
    "# draw lineplot\n",
    "sns.lineplot(x=\"Salary\", y=\"Bonus %\", data=emdata)"
   ]
  },
  {
   "cell_type": "markdown",
   "id": "ae1faa13-cfc1-42fb-9687-86f676c52e38",
   "metadata": {},
   "source": [
    "bar view"
   ]
  },
  {
   "cell_type": "code",
   "execution_count": 54,
   "id": "1d5ae3ea-fa8d-4cd5-86bc-db0f82376389",
   "metadata": {},
   "outputs": [
    {
     "data": {
      "text/plain": [
       "<AxesSubplot:>"
      ]
     },
     "execution_count": 54,
     "metadata": {},
     "output_type": "execute_result"
    },
    {
     "data": {
      "image/png": "[encoded data removed]",
      "text/plain": [
       "<Figure size 432x288 with 1 Axes>"
      ]
     },
     "metadata": {
      "needs_background": "light"
     },
     "output_type": "display_data"
    }
   ],
   "source": [
    "emdata[\"Salary\"].value_counts().plot.bar()"
   ]
  },
  {
   "cell_type": "code",
   "execution_count": 55,
   "id": "a0c7d643-fd17-45d4-a0f7-639364341874",
   "metadata": {},
   "outputs": [
    {
     "data": {
      "text/plain": [
       "<AxesSubplot:>"
      ]
     },
     "execution_count": 55,
     "metadata": {},
     "output_type": "execute_result"
    },
    {
     "data": {
      "image/png": "[encoded data removed]",
      "text/plain": [
       "<Figure size 432x288 with 1 Axes>"
      ]
     },
     "metadata": {
      "needs_background": "light"
     },
     "output_type": "display_data"
    }
   ],
   "source": [
    "emdata['Salary'].value_counts().head(10).plot.bar()"
   ]
  },
  {
   "cell_type": "markdown",
   "id": "0c450311-7e18-4b33-8416-a766df5914f8",
   "metadata": {},
   "source": [
    "Heat map"
   ]
  },
  {
   "cell_type": "code",
   "execution_count": 67,
   "id": "2aea1223-cd5a-4946-83f8-b35f2069f512",
   "metadata": {},
   "outputs": [
    {
     "data": {
      "image/png": "[encoded data removed]",
      "text/plain": [
       "<Figure size 432x288 with 1 Axes>"
      ]
     },
     "metadata": {},
     "output_type": "display_data"
    }
   ],
   "source": [
    "emdata = pd.DataFrame(np.random.randn(50).reshape(10,5))\n",
    "corr = df.corr()\n",
    "\n",
    "ax1 = sns.heatmap(corr, cbar=0, linewidths=2,vmax=1, vmin=0, square=True, cmap='Blues')\n",
    "plt.show()"
   ]
  }
 ],
 "metadata": {
  "kernelspec": {
   "display_name": "Python 3 (ipykernel)",
   "language": "python",
   "name": "python3"
  },
  "language_info": {
   "codemirror_mode": {
    "name": "ipython",
    "version": 3
   },
   "file_extension": ".py",
   "mimetype": "text/x-python",
   "name": "python",
   "nbconvert_exporter": "python",
   "pygments_lexer": "ipython3",
   "version": "3.9.12"
  }
 },
 "nbformat": 4,
 "nbformat_minor": 5
}
