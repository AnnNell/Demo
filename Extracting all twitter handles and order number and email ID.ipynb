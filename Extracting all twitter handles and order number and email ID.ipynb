{
 "cells": [
  {
   "cell_type": "markdown",
   "id": "8060cf43-5cb7-4f0d-82fc-6739af23cccc",
   "metadata": {},
   "source": [
    "## Extracting all twitter handles and order number and email ID"
   ]
  },
  {
   "cell_type": "markdown",
   "id": "3bf4fb50-5d57-44a2-ba28-e0195d246a16",
   "metadata": {},
   "source": [
    "Importing regular expression"
   ]
  },
  {
   "cell_type": "code",
   "execution_count": 2,
   "id": "0025e2b8-5199-48ff-a757-7f2bff61065e",
   "metadata": {},
   "outputs": [],
   "source": [
    "import re"
   ]
  },
  {
   "cell_type": "code",
   "execution_count": 3,
   "id": "d20a5c24-c278-44de-8f8d-aad77361a496",
   "metadata": {},
   "outputs": [
    {
     "name": "stdout",
     "output_type": "stream",
     "text": [
      "elonmusk\n",
      "teslarati\n",
      "dummy_tesla\n",
      "dummy_2_tesla\n"
     ]
    }
   ],
   "source": [
    "twitter_urls = [\n",
    "    \"Follow our leader Elon musk on twitter here: https://twitter.com/elonmusk\", \n",
    "    \"more information on Tesla's products can be found at https://www.tesla.com/.\",\n",
    "    \"Also here are leading influencers for tesla related news, https://twitter.com/teslarati\",\n",
    "    \"https://twitter.com/dummy_tesla\",\n",
    "    \"https://twitter.com/dummy_2_tesla\",\n",
    "\n",
    "]\n",
    "\n",
    "for twitter_url in twitter_urls:\n",
    "    match = re.search(r'^.*?\\btwitter\\.com/@?(\\w{1,15})(?:[?/,].*)?$',twitter_url)\n",
    "    if match:\n",
    "        print(match.group(1))"
   ]
  },
  {
   "cell_type": "markdown",
   "id": "89b42a46-a762-465c-877e-53fea87cd1ae",
   "metadata": {},
   "source": [
    "Extracting order number and email ID"
   ]
  },
  {
   "cell_type": "code",
   "execution_count": 5,
   "id": "16f93610-d488-4a04-a4bd-4c1b6fffa4ea",
   "metadata": {},
   "outputs": [
    {
     "data": {
      "text/plain": [
       "[489912]"
      ]
     },
     "execution_count": 5,
     "metadata": {},
     "output_type": "execute_result"
    }
   ],
   "source": [
    "txt = \"'Alexa: My order 489912 is having an issue, I was charged 300$ when online it says 280$',Revert me to this id: xyz_0@yahoo.gz\"\n",
    ">>> [int(s) for s in txt.split() if s.isdigit()]"
   ]
  },
  {
   "cell_type": "code",
   "execution_count": 8,
   "id": "541c442f-72aa-4050-b6d8-c957a593f56f",
   "metadata": {},
   "outputs": [
    {
     "name": "stdout",
     "output_type": "stream",
     "text": [
      "['xyP1230_0@yahoo.gz']\n"
     ]
    }
   ],
   "source": [
    "txt = \"\"\"'Alexa: My order 412889912 is having an issue, I was charged 300$ when online it says 280$',Revert me to this id: xyP1230_0@yahoo.gz\n",
    "\"\"\"\n",
    "email = re.findall('\\S+@\\S+', txt)     \n",
    "\n",
    "print(email) "
   ]
  },
  {
   "cell_type": "markdown",
   "id": "1d765995-78fd-4ae4-9750-266c73ca4346",
   "metadata": {},
   "source": [
    " \"\\S\" matches any non-whitespace character \n",
    " \"@\" for as in the Email \n",
    "\"+\" for Repeats a character one or more times "
   ]
  }
 ],
 "metadata": {
  "kernelspec": {
   "display_name": "Python 3 (ipykernel)",
   "language": "python",
   "name": "python3"
  },
  "language_info": {
   "codemirror_mode": {
    "name": "ipython",
    "version": 3
   },
   "file_extension": ".py",
   "mimetype": "text/x-python",
   "name": "python",
   "nbconvert_exporter": "python",
   "pygments_lexer": "ipython3",
   "version": "3.9.12"
  }
 },
 "nbformat": 4,
 "nbformat_minor": 5
}
